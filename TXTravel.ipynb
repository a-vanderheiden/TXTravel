{
 "cells": [
  {
   "cell_type": "markdown",
   "metadata": {},
   "source": [
    "# TAMU Geography Texas County Contest\n",
    "\n",
    "This notebook calculates/creates the following items for the county contest:\n",
    "- number of counties visited per year of Texas residence\n",
    "- the greatest distance between counties visited (based on centroids)\n",
    "- the longest contiguous boundary made from the counties visited\n",
    "- the boldest mile: number of miles driven multiplied by the age of the vehicle\n",
    "- alphabet bingo: a list of the unique first letters of the counties visited\n",
    "- a list of all the counties visited\n",
    "- a map visualizing the counties visited, their contiguous boundary, your travel route(s), the greatest distance between counties\n",
    "\n",
    "This is all done by intersecting official TxDOT county boundaries (stored in the `data` folder) with kmz(s) of your travel route(s).\n",
    "These travel routes can be downloaded from the [My Maps](https://www.google.com/maps/d/) site created by Google. More detailed instructions on downloading these routes can be found on the `README.md` file (included) or online.\n",
    "\n",
    "Example kmz routes can be found in the `example_data` folder. Copy and paste these files to the `data` folder if you want to see an example.\n",
    "\n",
    "If you do not wish to use the kmz files, you can simply list the counties you visited in the cell below. The code will automatically find the TxDOT boundaries with the same name. Be sure to use the correct spelling, (including capitalizing the first letter) and separating each name with a comma. \n",
    "\n",
    "If you use the kmz routes AND list counties, the code will add whatever counties are listed that arent already intersected by the routes. \n",
    "\n"
   ]
  },
  {
   "cell_type": "markdown",
   "metadata": {},
   "source": [
    "# Enter your information in the cell below\n",
    "\n",
    "This is the only cell where you will have to type things in. Only enter information for the varabiles in ALL_CAPITAL_LETTERS. Be sure to add you info in between the double quotes for each variable.\n",
    "\n",
    "Once you have entered your info, just hit the \"Run All\" button at the top of the screen. \n",
    "\n",
    "If the cell labeled \"Check User Input\" says \"the following county names can't be found...\" then check your spelling against the county names printed, fix any errors and hit \"Run All\" again. Do this until you no longer get errors."
   ]
  },
  {
   "cell_type": "code",
   "execution_count": null,
   "metadata": {},
   "outputs": [],
   "source": [
    "# Enter your information below. For each line, enter your info between the double quotes\n",
    "\n",
    "# How long have you resided in Texas (in years)?\n",
    "YEARS_OF_RESIDENCE = \"\"\n",
    "\n",
    "# How old is your vehicle (in years)? Enter 0 if not applicable\n",
    "VEHICLE_AGE = \"\"\n",
    "\n",
    "# List counties below if you are not using kmz routes OR you want to add counties not intersected by your kmz routes.\n",
    "# Add the county names between the double quotes, each separated by a comma and with the first letter capitalized\n",
    "# ex) \"Brazos, Burleson, Harris\"\n",
    "USER_COUNTIES = \"\""
   ]
  },
  {
   "cell_type": "markdown",
   "metadata": {},
   "source": [
    "## Check user input"
   ]
  },
  {
   "cell_type": "code",
   "execution_count": null,
   "metadata": {},
   "outputs": [],
   "source": [
    "import geopandas as gpd\n",
    "import fiona\n",
    "fiona.supported_drivers[\"LIBKML\"] = \"raw\"\n",
    "\n",
    "from txtravel_funcs import check_kmz, check_county_names, load_routes, intersecting_counties\n",
    "from txtravel_funcs import CountyProcessor"
   ]
  },
  {
   "cell_type": "code",
   "execution_count": null,
   "metadata": {},
   "outputs": [],
   "source": [
    "# Cast user input\n",
    "if YEARS_OF_RESIDENCE:\n",
    "    YEARS_OF_RESIDENCE = int(YEARS_OF_RESIDENCE)\n",
    "else:\n",
    "    raise ValueError(\"Please enter a value for YEARS_OF_RESIDENCE and re-run\")\n",
    "\n",
    "if VEHICLE_AGE:\n",
    "    VEHICLE_AGE = int(VEHICLE_AGE)\n",
    "else:\n",
    "    raise ValueError(\"Please enter a value for VEHICLE_AGE and re-run. Set to 0 if not applicable.\")\n",
    "\n",
    "# Print user input\n",
    "print(f\"Years of Texas residence: {YEARS_OF_RESIDENCE}\")\n",
    "print(f\"Age of vehicle: {VEHICLE_AGE}\")\n",
    "\n",
    "# Check for kmz routes\n",
    "kmz_files = check_kmz()\n",
    "print(\"\")\n",
    "\n",
    "# Print listed counties\n",
    "if USER_COUNTIES:\n",
    "    county_list = USER_COUNTIES.replace(\", \", \",\").split(\",\")\n",
    "else:\n",
    "    county_list = []\n",
    "print(f\"Listed counties: {county_list}\")\n",
    "\n",
    "# Open counties and prep TX boundary for later\n",
    "counties = gpd.read_file(\"data/Texas_County_Boundaries.geojson\")\n",
    "tx_boundary = counties.dissolve()\n",
    "\n",
    "# Get UTM crs for Texas for calcualtions later\n",
    "tx_utm = tx_boundary.estimate_utm_crs()\n",
    "\n",
    "# Check for valid county names\n",
    "check_county_names(counties, county_list)"
   ]
  },
  {
   "cell_type": "markdown",
   "metadata": {},
   "source": [
    "## Open kmz routes and get intersecting counties"
   ]
  },
  {
   "cell_type": "code",
   "execution_count": null,
   "metadata": {},
   "outputs": [],
   "source": [
    "# Create empty variable if user does not add routes\n",
    "clipped_routes = gpd.GeoDataFrame()\n",
    "\n",
    "if kmz_files:\n",
    "    # Load in the kmz routes\n",
    "    routes = load_routes(kmz_files)\n",
    "\n",
    "    # Clip to TX Boundary\n",
    "    clipped_routes = routes.clip(tx_boundary)\n",
    "\n",
    "    # Add intersetcted counties to the listed counties\n",
    "    itx_county_names = intersecting_counties(clipped_routes, counties)\n",
    "\n",
    "    # Append intersecting counties to the county_list\n",
    "    [county_list.append(name) for name in itx_county_names if name not in county_list]\n",
    "    county_list = sorted(county_list)\n",
    "\n",
    "visited_counties = counties[counties[\"CNTY_NM\"].isin(county_list)]\n",
    "\n",
    "if visited_counties.empty:\n",
    "    raise ValueError(\"No counties provided. Please either list counties in the first cell or add kmz routes to the `data` folder\")"
   ]
  },
  {
   "cell_type": "markdown",
   "metadata": {},
   "source": [
    "# Calculate values"
   ]
  },
  {
   "cell_type": "code",
   "execution_count": null,
   "metadata": {},
   "outputs": [],
   "source": [
    "county_processor = CountyProcessor(visited_counties, clipped_routes, YEARS_OF_RESIDENCE, VEHICLE_AGE, tx_utm)\n",
    "\n",
    "county_count, year_of_res = county_processor.counties_per_yr_tx_res()\n",
    "greatest_dist = county_processor.greatest_distance_between_counties()\n",
    "longest_boundary = county_processor.longest_boundary()\n",
    "distance_driven, vehicle_age = county_processor.boldest_mile()\n"
   ]
  },
  {
   "cell_type": "markdown",
   "metadata": {},
   "source": [
    "# Print values and show map"
   ]
  },
  {
   "cell_type": "code",
   "execution_count": null,
   "metadata": {},
   "outputs": [],
   "source": [
    "print(f\"You visited {county_count} counties with {year_of_res} years of TX residence. Your ratio is: {round(county_count/year_of_res, 2)}\")\n",
    "print(f\"Your greatest distance between county centroids this summer was {round(greatest_dist.loc[0, 'geometry'].length/1609, 2)} miles. See map below.\")\n",
    "print(f\"The longest contiguous boundary of counties you visited was {round(longest_boundary.geometry.exterior.length[0][0]/1609, 2)} miles\")\n",
    "\n",
    "print(f\"You drove {round(distance_driven, 2)} miles with a {vehicle_age} year old vehicle. Your boldest mile score is {round(distance_driven*vehicle_age, 2)}\")\n",
    "\n",
    "\n",
    "# Create map\n",
    "m = visited_counties.explore()\n",
    "longest_boundary.explore(m=m, style_kwds={\"fill\":False, \"weight\":5})\n",
    "if not clipped_routes.empty:\n",
    "    clipped_routes.explore(m=m, color=\"blue\")\n",
    "greatest_dist.explore(m=m, color=\"black\", style_kwds={\"weight\":3})"
   ]
  }
 ],
 "metadata": {
  "kernelspec": {
   "display_name": "Python 3 (ipykernel)",
   "language": "python",
   "name": "python3"
  },
  "language_info": {
   "codemirror_mode": {
    "name": "ipython",
    "version": 3
   },
   "file_extension": ".py",
   "mimetype": "text/x-python",
   "name": "python",
   "nbconvert_exporter": "python",
   "pygments_lexer": "ipython3",
   "version": "3.10.12"
  }
 },
 "nbformat": 4,
 "nbformat_minor": 4
}
